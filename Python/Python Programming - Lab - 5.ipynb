{
 "cells": [
  {
   "cell_type": "markdown",
   "metadata": {},
   "source": [
    "\n",
    "<a href='https://www.darshan.ac.in/'> <img src='https://www.darshan.ac.in/Content/media/DU_Logo.svg' width=\"250\" height=\"300\"/></a>\n",
    "<pre>\n",
    "<center><b><h1>Python Programming - 2101CS405</b></center>\n",
    "<center><b><h1>Lab - 5</b></center>    \n",
    "<pre>"
   ]
  },
  {
   "cell_type": "markdown",
   "metadata": {},
   "source": [
    "# list"
   ]
  },
  {
   "cell_type": "markdown",
   "metadata": {},
   "source": [
    "### 01) WAP to find sum of all the elements in List."
   ]
  },
  {
   "cell_type": "code",
   "execution_count": 7,
   "metadata": {},
   "outputs": [
    {
     "name": "stdout",
     "output_type": "stream",
     "text": [
      "12\n",
      "45\n",
      "53\n",
      "23\n",
      "[12, 45, 53, 23]\n",
      "sum is : 133\n"
     ]
    }
   ],
   "source": [
    "l1 = []\n",
    "n = int(input(\"enter size of list\"))\n",
    "for i in range(0,n):\n",
    "    l1.append(int(input(\"enter numbers : \")))\n",
    "    print(l1[i])\n",
    "sum = 0\n",
    "for i in l1:\n",
    "    sum += i\n",
    "print(\"elements are : \",l1)\n",
    "print(\"sum is :\",sum)"
   ]
  },
  {
   "cell_type": "markdown",
   "metadata": {},
   "source": [
    "### 02) WAP to find largest element in a List."
   ]
  },
  {
   "cell_type": "code",
   "execution_count": 11,
   "metadata": {},
   "outputs": [
    {
     "name": "stdout",
     "output_type": "stream",
     "text": [
      "element of  0 th index is :  23\n",
      "element of  1 th index is :  56\n",
      "element of  2 th index is :  45\n",
      "element of  3 th index is :  53\n",
      "maximum number is :  56\n"
     ]
    }
   ],
   "source": [
    "l2 = []\n",
    "n = int(input(\"enter size of list : \"))\n",
    "for i in range(0,n):\n",
    "    l2.append(int(input(\"enter numbers : \")))\n",
    "    print(\"element of \",i,\"th index is : \", l2[i])\n",
    "\n",
    "# a = max(l2)\n",
    "# print(\"max is : \",a)\n",
    "max = l2[0]\n",
    "for i in l2:\n",
    "    if i>max:\n",
    "        max = i\n",
    "print(\"maximum number is : \",max)\n",
    "\n"
   ]
  },
  {
   "cell_type": "markdown",
   "metadata": {},
   "source": [
    "### 03) WAP to split the List into two and append the first part to the end."
   ]
  },
  {
   "cell_type": "code",
   "execution_count": 9,
   "metadata": {},
   "outputs": [
    {
     "name": "stdout",
     "output_type": "stream",
     "text": [
      "None\n",
      "element of  0 th index is :  45\n",
      "None\n",
      "element of  1 th index is :  56\n",
      "None\n",
      "element of  2 th index is :  12\n",
      "None\n",
      "element of  3 th index is :  58\n",
      "[12, 58, 45, 56]\n"
     ]
    }
   ],
   "source": [
    "l3 = []\n",
    "n = int(input(\"enter size of list \"))\n",
    "for i in range(0,n):\n",
    "    print(l3.append(int(input(\"enter numbers of list:\"))))\n",
    "    print(\"element of \",i,\"th index is : \", l3[i])\n",
    "m = len(l3)//2\n",
    "l4 = l3[:m]\n",
    "l5 = l3[m:]\n",
    "l5.extend(l4)\n",
    "print(l5)"
   ]
  },
  {
   "cell_type": "markdown",
   "metadata": {},
   "source": [
    "### 04) WAP to interchange first and last elements in list entered by a user."
   ]
  },
  {
   "cell_type": "code",
   "execution_count": 14,
   "metadata": {},
   "outputs": [
    {
     "name": "stdout",
     "output_type": "stream",
     "text": [
      "element of  0 th index is :  12\n",
      "element of  1 th index is :  23\n",
      "element of  2 th index is :  45\n",
      "element of  3 th index is :  56\n",
      "new list  [56, 23, 45, 12]\n"
     ]
    }
   ],
   "source": [
    "l1 = []\n",
    "n = int(input(\"enter size of list\"))\n",
    "for i in range(0,n):\n",
    "    l1.append(int(input(\"enter the numbers of list\")))\n",
    "    print(\"element of \",i,\"th index is : \", l1[i])\n",
    "# temp = l1[0]\n",
    "# l1[0] = l1[len(l1)-1]\n",
    "# l1[len(l1)-1] = temp\n",
    "# print(l1)\n",
    "\n",
    "\n",
    "l1[0],l1[-1] = l1[-1],l1[0]\n",
    "\n",
    "print(\"new list \",l1)"
   ]
  },
  {
   "cell_type": "markdown",
   "metadata": {},
   "source": [
    "### 05) WAP to interchange the elements on two positions entered by a user."
   ]
  },
  {
   "cell_type": "code",
   "execution_count": 16,
   "metadata": {},
   "outputs": [
    {
     "name": "stdout",
     "output_type": "stream",
     "text": [
      "element of  0 th index is :  12\n",
      "element of  1 th index is :  45\n",
      "element of  2 th index is :  53\n",
      "element of  3 th index is :  86\n",
      "new list  [12, 86, 53, 45]\n"
     ]
    }
   ],
   "source": [
    "l1 = []\n",
    "n = int(input(\"enter size of list\"))\n",
    "for i in range(0,n):\n",
    "    l1.append(int(input(\"enter the numbers of list\")))\n",
    "    print(\"element of \",i,\"th index is : \", l1[i])\n",
    "\n",
    "i = int(input(\"enter first position \"))\n",
    "j = int(input(\"enter second position \"))\n",
    "if i>=0 and j>=0 and i<len(l1) and j<len(l1):\n",
    "    l1[i],l1[j] = l1[j],l1[i]\n",
    "else:\n",
    "    print(\"list out of bound\")\n",
    "print(\"new list \",l1)"
   ]
  },
  {
   "cell_type": "markdown",
   "metadata": {},
   "source": [
    "### 06) WAP to reverses the list entered by user."
   ]
  },
  {
   "cell_type": "code",
   "execution_count": 17,
   "metadata": {},
   "outputs": [
    {
     "name": "stdout",
     "output_type": "stream",
     "text": [
      "element of  0 th index is :  12\n",
      "element of  1 th index is :  45\n",
      "element of  2 th index is :  56\n",
      "element of  3 th index is :  23\n",
      "original list is : [12, 45, 56, 23]\n",
      "[23, 56, 45, 12]\n"
     ]
    }
   ],
   "source": [
    "l1 = []\n",
    "n = int(input(\"enter size of list\"))\n",
    "for i in range(0,n):\n",
    "    l1.append(int(input(\"enter the numbers of list\")))\n",
    "    print(\"element of \",i,\"th index is : \", l1[i])\n",
    "print(\"original list is :\",l1)\n",
    "\n",
    "l = l1[::-1]\n",
    "print(\"reverse list is :\",l)"
   ]
  },
  {
   "cell_type": "markdown",
   "metadata": {},
   "source": [
    "### 07) Python program to remove multiple elements from a list using list comprehension"
   ]
  },
  {
   "cell_type": "code",
   "execution_count": 21,
   "metadata": {},
   "outputs": [
    {
     "name": "stdout",
     "output_type": "stream",
     "text": [
      "[45, 56, 12, 23]\n"
     ]
    }
   ],
   "source": [
    "n = int(input(\"enter size of list\"))\n",
    "l1 = [int(input(\"enter elements of \"+str(i)+\"th index \")) for i in range(0,n)]\n",
    "print(l1)"
   ]
  },
  {
   "cell_type": "markdown",
   "metadata": {},
   "source": [
    "### 08) Create a list from the specified start to end index of another list."
   ]
  },
  {
   "cell_type": "code",
   "execution_count": 30,
   "metadata": {},
   "outputs": [
    {
     "name": "stdout",
     "output_type": "stream",
     "text": [
      "[45, 56, 23]\n"
     ]
    }
   ],
   "source": [
    "n = int(input(\"enter size of list\"))\n",
    "l1 = [int(input(\"enter elements of \"+str(i)+\"th index \")) for i in range(0,n)]\n",
    "\n",
    "\n",
    "a = int(input(\"enter first position \"))\n",
    "b = int(input(\"enter second position \"))\n",
    "\n",
    "if a>=0 and b>=0 and a<len(l1) and b<len(l1):\n",
    "    l2 = l1[a:(b+1)]\n",
    "    print(l2)\n",
    "else:\n",
    "    print(\"enter position in range\")\n",
    "\n"
   ]
  },
  {
   "cell_type": "markdown",
   "metadata": {},
   "source": [
    "### 09) Input comma separated elements, convert into list and print."
   ]
  },
  {
   "cell_type": "code",
   "execution_count": 33,
   "metadata": {},
   "outputs": [
    {
     "name": "stdout",
     "output_type": "stream",
     "text": [
      "string : 12,45,36,66,91,23,44\n",
      "list :  [12, 45, 36, 66, 91, 23, 44]\n"
     ]
    }
   ],
   "source": [
    "s1 = input(\"enter comma saperated string \")\n",
    "print(\"string :\",s1)\n",
    "l1 = s1.split(\",\")\n",
    "l2 = [int(i) for i in l1]\n",
    "print(\"list : \",l2)"
   ]
  },
  {
   "cell_type": "markdown",
   "metadata": {},
   "source": [
    "### 01) WAP to count Even and Odd numbers in a List."
   ]
  },
  {
   "cell_type": "code",
   "execution_count": 37,
   "metadata": {},
   "outputs": [
    {
     "name": "stdout",
     "output_type": "stream",
     "text": [
      "even number of list : 1 \n",
      "odd numbers of list : 3\n"
     ]
    }
   ],
   "source": [
    "n = int(input(\"enter size of list\"))\n",
    "l1 = [int(input(\"enter elements of \"+str(i)+\"th index \")) for i in range(0,n)]\n",
    "\n",
    "counteven = 0\n",
    "countodd = 0\n",
    "for i in l1:\n",
    "    if i%2 == 0:\n",
    "        counteven+=1\n",
    "    else:\n",
    "        countodd+=1\n",
    "\n",
    "print(\"even numbers of list :\",counteven, \"\\nodd numbers of list :\",countodd)"
   ]
  },
  {
   "cell_type": "markdown",
   "metadata": {},
   "source": [
    "### 02) Python program to find N largest and smallest elements from the list"
   ]
  },
  {
   "cell_type": "code",
   "execution_count": null,
   "metadata": {},
   "outputs": [],
   "source": [
    "n = int(input(\"enter size of list\"))\n",
    "l1 = [int(input(\"enter elements of \"+str(i)+\"th index \")) for i in range(0,n)]"
   ]
  },
  {
   "cell_type": "markdown",
   "metadata": {},
   "source": [
    "### 03) WAP to print duplicates from a list of integers"
   ]
  },
  {
   "cell_type": "code",
   "execution_count": null,
   "metadata": {},
   "outputs": [],
   "source": []
  }
 ],
 "metadata": {
  "kernelspec": {
   "display_name": "Python 3",
   "language": "python",
   "name": "python3"
  },
  "language_info": {
   "codemirror_mode": {
    "name": "ipython",
    "version": 3
   },
   "file_extension": ".py",
   "mimetype": "text/x-python",
   "name": "python",
   "nbconvert_exporter": "python",
   "pygments_lexer": "ipython3",
   "version": "3.10.9"
  },
  "vscode": {
   "interpreter": {
    "hash": "65a440aeac0c89e2af7569e0aa53b64434c4b69eb6285e2b0d174d9bca190d54"
   }
  }
 },
 "nbformat": 4,
 "nbformat_minor": 4
}
