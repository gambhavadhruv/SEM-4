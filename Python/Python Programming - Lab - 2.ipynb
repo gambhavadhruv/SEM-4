{
 "cells": [
  {
   "cell_type": "markdown",
   "metadata": {},
   "source": [
    "\n",
    "<a href='https://www.darshan.ac.in/'> <img src='https://www.darshan.ac.in/Content/media/DU_Logo.svg' width=\"250\" height=\"300\"/></a>\n",
    "<pre>\n",
    "<center><b><h1>Python Programming - 2101CS405</b></center>\n",
    "<center><b><h1>Lab - 2</b></center>    \n",
    "<pre>"
   ]
  },
  {
   "cell_type": "markdown",
   "metadata": {},
   "source": [
    "# if..else.."
   ]
  },
  {
   "cell_type": "markdown",
   "metadata": {},
   "source": [
    "### 01) WAP to check whether the given number is positive or negative."
   ]
  },
  {
   "cell_type": "code",
   "execution_count": 8,
   "metadata": {},
   "outputs": [
    {
     "name": "stdout",
     "output_type": "stream",
     "text": [
      "Enter number For check number is positive or negative-0.0000001\n",
      "Number is Negative\n"
     ]
    }
   ],
   "source": [
    "num=float(input(\"Enter number For check number is positive or negative\"))\n",
    "if num>=0:\n",
    "    print(\"Number is Positive\")\n",
    "\n",
    "else:\n",
    "    print(\"Number is Negative\")\n"
   ]
  },
  {
   "cell_type": "markdown",
   "metadata": {},
   "source": [
    "### 02) WAP to check whether the given number is odd or even"
   ]
  },
  {
   "cell_type": "code",
   "execution_count": 13,
   "metadata": {},
   "outputs": [
    {
     "name": "stdout",
     "output_type": "stream",
     "text": [
      "Enter number for ckeck Odd or Even0\n",
      "Number is even\n"
     ]
    }
   ],
   "source": [
    "num=int(input(\"Enter number for ckeck Odd or Even\"))\n",
    "if num%2==0:\n",
    "    print(\"Number is even\")\n",
    "else:\n",
    "    print(\"Number is odd\")"
   ]
  },
  {
   "cell_type": "markdown",
   "metadata": {},
   "source": [
    "### 03) WAP to find out largest number from given two numbers using simple if and ternary operator."
   ]
  },
  {
   "cell_type": "code",
   "execution_count": 4,
   "metadata": {},
   "outputs": [
    {
     "name": "stdout",
     "output_type": "stream",
     "text": [
      "45  is largest number\n"
     ]
    }
   ],
   "source": [
    "a=int(input(\"Enter first number \"))\n",
    "b=int(input(\"Enter second number \"))\n",
    "if a>b:\n",
    "    print(a,' is largest number')\n",
    "else:\n",
    "    print(b,' is largest number')    \n"
   ]
  },
  {
   "cell_type": "markdown",
   "metadata": {},
   "source": [
    "### 04) WAP to find out largest number from given three numbers."
   ]
  },
  {
   "cell_type": "code",
   "execution_count": 8,
   "metadata": {},
   "outputs": [
    {
     "name": "stdout",
     "output_type": "stream",
     "text": [
      "Number 4  is largest\n"
     ]
    }
   ],
   "source": [
    "num1=int(input(\"Enter number 1 \"))\n",
    "num2=int(input(\"Enter number 2 \"))\n",
    "num3=int(input(\"Enter number 3 \"))\n",
    "if num1>num2:\n",
    "    if num1>num3:\n",
    "        print(\"Number \",num1, \"is Largest\")\n",
    "    else:\n",
    "        print(\"Number \",num3,\" is largest\")\n",
    "else:\n",
    "    if num2>num3:\n",
    "        print(\"Number \",num2, \"is largest\")\n",
    "    else:\n",
    "        print(\"Number\", num3,\" is largest\")\n",
    "    "
   ]
  },
  {
   "cell_type": "markdown",
   "metadata": {},
   "source": [
    "### 05) WAP to check whether the given year is leap year or not.\n",
    "[If a year can be divisible by 4 but not divisible by 100 then it is leap year but if it is divisible by 400 then it is leap year]"
   ]
  },
  {
   "cell_type": "code",
   "execution_count": 11,
   "metadata": {},
   "outputs": [
    {
     "name": "stdout",
     "output_type": "stream",
     "text": [
      "2013 is not leap year\n"
     ]
    }
   ],
   "source": [
    "year=int(input(\"Enter year to check leap year or not:\"))\n",
    "if (year%400==0 and year%100==0):\n",
    "    print(\"{0} is leap year\".format(year))\n",
    "elif (year%4==0 and year%100!=0):\n",
    "    print(\"{0} is leap year\".format(year))\n",
    "else:\n",
    "    print(\"{0} is not leap year\".format(year))"
   ]
  },
  {
   "cell_type": "markdown",
   "metadata": {},
   "source": [
    "### 06) WAP in python to display the name of the day according to the number given by the user"
   ]
  },
  {
   "cell_type": "code",
   "execution_count": 13,
   "metadata": {},
   "outputs": [
    {
     "name": "stdout",
     "output_type": "stream",
     "text": [
      "Wednesday\n"
     ]
    }
   ],
   "source": [
    "days =[\"Sunday\" ,\"Monday\", \"Tuesday\", \"Wednesday\", \"Thursday\", \"Friday\", \"Saturday\"]\n",
    "\n",
    "num = int(input(\"Enter Day (from 1-7) ::: \"))\n",
    "\n",
    "if (num>=1 and num<=7):\n",
    "    print(days[num-1])\n",
    "else:\n",
    "    print(\"Your input is not valid\")"
   ]
  },
  {
   "cell_type": "markdown",
   "metadata": {},
   "source": [
    "### 07) WAP to implement simple calculator which performs (add,sub,mul,div) of two no. based on user input."
   ]
  },
  {
   "cell_type": "code",
   "execution_count": 63,
   "metadata": {},
   "outputs": [
    {
     "name": "stdout",
     "output_type": "stream",
     "text": [
      "Enter number 1:10\n",
      "Enter number 2:30\n",
      "+ Addition \n",
      "- Subtraction\n",
      "* Multiplication \n",
      "/ Division\n",
      "Enter Choice/\n",
      "Ans is: 0.33\n"
     ]
    }
   ],
   "source": [
    "num1=float(input(\"Enter number 1:\"))\n",
    "num2=float(input(\"Enter number 2:\"))\n",
    "print(\"+ Addition \\n- Subtraction\\n* Multiplication \\n/ Division\")\n",
    "choice=input(\"Enter Choice\")\n",
    "if choice==\"+\":\n",
    "    print(\"Ans is:\",num1+num2)\n",
    "elif choice==\"-\":\n",
    "    print(\"Ans is:\",num1-num2)\n",
    "elif choice==\"*\":\n",
    "    print(\"Ans is:\",num1*num2)\n",
    "elif choice==\"/\":\n",
    "    print(\"Ans is:\",round(num1/num2,2))\n",
    "else:\n",
    "    print(\"Invalid Choice\")"
   ]
  },
  {
   "cell_type": "markdown",
   "metadata": {},
   "source": [
    "### 08) WAP to calculate electricity bill based on following criteria. Which takes the unit from the user.\n",
    "a. First 1 to 50 units – Rs. 2.60/unit</br>\n",
    "b. Next 50 to 100 units – Rs. 3.25/unit</br>\n",
    "c. Next 100 to 200 units – Rs. 5.26/unit</br>\n",
    "d. above 200 units – Rs. 8.45/unit"
   ]
  },
  {
   "cell_type": "code",
   "execution_count": 85,
   "metadata": {},
   "outputs": [
    {
     "name": "stdout",
     "output_type": "stream",
     "text": [
      "Enter number of unit0\n",
      "Electricity Bill is : 0.0\n"
     ]
    }
   ],
   "source": [
    "unit=int(input(\"Enter number of unit\"))\n",
    "if (unit>=0 and unit<=50):\n",
    "    print(\"Electricity Bill is :\",unit*2.60)\n",
    "elif (unit>50 and unit<=100):\n",
    "    print(\"Electricity Bill is :\",unit*3.25)\n",
    "elif (unit>100 and unit<=200):\n",
    "    print(\"Electricity Bill is :\",unit*5.26)\n",
    "elif unit>200:\n",
    "    print(\"Electricity Bill is :\",unit*8.45)\n",
    "else:\n",
    "    print(\"Bill can not negative\")"
   ]
  },
  {
   "cell_type": "markdown",
   "metadata": {},
   "source": [
    "### 01) WAP to read marks of five subjects. Calculate percentage and print class accordingly. \n",
    "Fail below 35 </br>\n",
    "Pass Class between 35 to 45 </br>\n",
    "Second Class</br>\n",
    "between 45 to 60</br>\n",
    "First Class between 60 to 70</br> \n",
    "Distinction if more than 70"
   ]
  },
  {
   "cell_type": "code",
   "execution_count": 14,
   "metadata": {},
   "outputs": [
    {
     "name": "stdout",
     "output_type": "stream",
     "text": [
      "Student is passed with Distinction Class and get 95.8%\n"
     ]
    }
   ],
   "source": [
    "marks = []\n",
    "subject=[\"Math\",\"English\",\"Chemistry\",\"Physics\",\"Computer\"]\n",
    "total=0\n",
    "for x in range(5):\n",
    "    marks.append(input(\"Enter mark of {}\".format(subject[x])))\n",
    "    total=total+int(marks[x])\n",
    "    \n",
    "per=total/5\n",
    "if per<35:\n",
    "    print(\"Student is Failed\")\n",
    "elif (per>=35 and per<45):\n",
    "    print(\"Student is passed with Pass Class and get {}%\".format(per))\n",
    "elif (per>=45 and per<60):\n",
    "    print(\"Student is passed with Second Class and get {}%\".format(per))\n",
    "elif (per>=60 and per<70):\n",
    "    print(\"Student is passed with First Class and get {}%\".format(per))\n",
    "elif (per>=70):\n",
    "    print(\"Student is passed with Distinction Class and get {}%\".format(per))\n",
    "else:\n",
    "    print(\"Percentage is not come more than 100%\")"
   ]
  },
  {
   "cell_type": "markdown",
   "metadata": {},
   "source": [
    "### 02) WAP to find out the Maximum and Minimum number from given 4 numbers."
   ]
  },
  {
   "cell_type": "code",
   "execution_count": 21,
   "metadata": {},
   "outputs": [
    {
     "name": "stdout",
     "output_type": "stream",
     "text": [
      "Enter number 1:56\n",
      "Enter number 2:78\n",
      "Enter number 3:90\n",
      "Enter number 4:45\n",
      "Number 3 is largest\n"
     ]
    }
   ],
   "source": [
    "number = []\n",
    "flag=True\n",
    "for x in range(4):\n",
    "    number.append(input(\"Enter number {}:\".format(x+1)))\n",
    "for x in number:\n",
    "    for y in number:\n",
    "        if x<y:\n",
    "            flag=False\n",
    "            break\n",
    "    if flag==True:\n",
    "        print(\"Number {} is largest\".format(number.index(x)+1))\n",
    "        break\n",
    "    else:\n",
    "        flag=True"
   ]
  },
  {
   "cell_type": "markdown",
   "metadata": {},
   "source": [
    "##### 03) WAP to input an integer number and check the last digit of number is even or odd."
   ]
  },
  {
   "cell_type": "code",
   "execution_count": 36,
   "metadata": {},
   "outputs": [
    {
     "name": "stdout",
     "output_type": "stream",
     "text": [
      "Enter Integer number0000000\n",
      "Last digit of number is Even\n"
     ]
    }
   ],
   "source": [
    "num=int(input(\"Enter Integer number\"))\n",
    "rem=int(num%10)\n",
    "if rem%2==0:\n",
    "    print(\"Last digit of number is Even\")\n",
    "else:\n",
    "    print(\"Last digit of number is Odd\")"
   ]
  },
  {
   "cell_type": "markdown",
   "metadata": {},
   "source": [
    "### 04) WAP to determine the roots of the equation ax2+bx+c=0."
   ]
  },
  {
   "cell_type": "code",
   "execution_count": 46,
   "metadata": {},
   "outputs": [
    {
     "name": "stdout",
     "output_type": "stream",
     "text": [
      "Equation is ax2+bx+c=0\n",
      "Enter a:6\n",
      "Enter b:8\n",
      "Enter c:15\n",
      "Complex Roots\n",
      "x = -0.666667 +i 1.43372\n",
      "x = -0.666667 -i 1.43372\n"
     ]
    }
   ],
   "source": [
    "import math\n",
    "print(\"Equation is ax2+bx+c=0\")\n",
    "a=int(input(\"Enter a:\"))\n",
    "b=int(input(\"Enter b:\"))\n",
    "c=int(input(\"Enter c:\"))\n",
    "if a==0:\n",
    "    print(\"Input correct quadratic equation\")\n",
    "else:\n",
    "    d=(b*b)-(4*a*c)\n",
    "    sqrt_value=math.sqrt(abs(d))\n",
    "\n",
    "    if d>0:\n",
    "        print(\"real and  different roots\")\n",
    "        print(\"x =\",round((-b + sqrt_value)/(2 * a),6))\n",
    "        print(\"x =\",round((-b - sqrt_value)/(2 * a),6))\n",
    "    elif d==0:\n",
    "        print(\"real and same roots\")\n",
    "        print(\"x =\",round(-b / (2 * a)))\n",
    "    else:\n",
    "        print(\"Complex Roots\")\n",
    "        print(\"x =\",round(-b / (2 * a),6),\"+i\",round(sqrt_value/(2 * a),5))\n",
    "        print(\"x =\",round(-b / (2 * a),6),\"-i\",round(sqrt_value/(2 * a),5))\n"
   ]
  },
  {
   "cell_type": "code",
   "execution_count": null,
   "metadata": {},
   "outputs": [],
   "source": []
  }
 ],
 "metadata": {
  "kernelspec": {
   "display_name": "Python 3",
   "language": "python",
   "name": "python3"
  },
  "language_info": {
   "codemirror_mode": {
    "name": "ipython",
    "version": 3
   },
   "file_extension": ".py",
   "mimetype": "text/x-python",
   "name": "python",
   "nbconvert_exporter": "python",
   "pygments_lexer": "ipython3",
   "version": "3.10.9 (tags/v3.10.9:1dd9be6, Dec  6 2022, 20:01:21) [MSC v.1934 64 bit (AMD64)]"
  },
  "vscode": {
   "interpreter": {
    "hash": "65a440aeac0c89e2af7569e0aa53b64434c4b69eb6285e2b0d174d9bca190d54"
   }
  }
 },
 "nbformat": 4,
 "nbformat_minor": 4
}
