{
 "cells": [
  {
   "cell_type": "markdown",
   "metadata": {},
   "source": [
    "<a href='https://www.darshan.ac.in/'> <img src='https://www.darshan.ac.in/Content/media/DU_Logo.svg' width=\"250\" height=\"300\"/></a>\n",
    "<pre>\n",
    "<center><b><h1>Python Programming - 2101CS405</b></center>\n",
    "<center><b><h1>Lab - 6</b></center>    \n",
    "<pre>"
   ]
  },
  {
   "cell_type": "markdown",
   "metadata": {},
   "source": [
    "# Tuples, dictionary, set"
   ]
  },
  {
   "cell_type": "markdown",
   "metadata": {},
   "source": [
    "# A"
   ]
  },
  {
   "cell_type": "markdown",
   "metadata": {},
   "source": [
    "### 01) WAP to sort python dictionary by key or value."
   ]
  },
  {
   "cell_type": "code",
   "execution_count": 39,
   "metadata": {},
   "outputs": [
    {
     "name": "stdout",
     "output_type": "stream",
     "text": [
      "Sorted By key\n",
      "26\n",
      "21\n",
      "32\n",
      "('abc', 26)\n",
      "('pqr', 21)\n",
      "('xyz', 32)\n"
     ]
    }
   ],
   "source": [
    "d = {\"abc\":26,\"xyz\":32,\"pqr\":21}\n",
    "\n",
    "# print(\"Print Keys\")\n",
    "# for i in d:\n",
    "#     print(i)\n",
    "\n",
    "# print(\"Print Keys\")\n",
    "# for i in d.keys():\n",
    "#     print(i)\n",
    "    \n",
    "# print(\"Print Value\")\n",
    "# for i in d.values():\n",
    "#     print(i)\n",
    "    \n",
    "# print(\"Print Item\")\n",
    "# for i in d.items():\n",
    "#     print(i)\n",
    "\n",
    "print(\"Sorted By key\")    \n",
    "L = list(d.keys())\n",
    "L.sort()\n",
    "for i in L:\n",
    "#     print(d[i])\n",
    "    print(d.get(i))\n",
    "    \n",
    "d1 = sorted(d.items(),key = lambda x:x[0])\n",
    "for i in d1:\n",
    "    print(i)"
   ]
  },
  {
   "cell_type": "markdown",
   "metadata": {},
   "source": [
    "### 02) WAP to merge two dictionaries given by user."
   ]
  },
  {
   "cell_type": "code",
   "execution_count": 52,
   "metadata": {},
   "outputs": [
    {
     "name": "stdout",
     "output_type": "stream",
     "text": [
      "Enter the Size fo Dictionary 1 : 3\n",
      "Enter Nameabhay\n",
      "Enter Marks212\n",
      "Enter Namemeet\n",
      "Enter Marks23\n",
      "Enter Namejay\n",
      "Enter Marks56\n",
      "Enter the Size fo Dictionary 2 : 2\n",
      "Enter Namemeet\n",
      "Enter Marks767\n",
      "Enter Namedeep\n",
      "Enter Marks78\n",
      "{'abhay': 212, 'meet': 767, 'jay': 56, 'deep': 78}\n"
     ]
    }
   ],
   "source": [
    "d1 = {}\n",
    "d2 = {}\n",
    "n1 = int(input(\"Enter the Size fo Dictionary 1 : \"))\n",
    "for i in range(n1):\n",
    "    name = input(\"Enter Name\")\n",
    "    marks = int(input(\"Enter Marks\"))\n",
    "    d1[name] = marks\n",
    "\n",
    "n2 = int(input(\"Enter the Size fo Dictionary 2 : \"))\n",
    "for i in range(n2):\n",
    "    name = input(\"Enter Name\")\n",
    "    marks = int(input(\"Enter Marks\"))\n",
    "    d2[name] = marks\n",
    "\n",
    "d1.update(d2)\n",
    "print(d1)"
   ]
  },
  {
   "cell_type": "markdown",
   "metadata": {},
   "source": [
    "### 03) WAP to find tuples that have all elements divisible by K from a list of tuples."
   ]
  },
  {
   "cell_type": "code",
   "execution_count": 28,
   "metadata": {},
   "outputs": [
    {
     "name": "stdout",
     "output_type": "stream",
     "text": [
      "Enter Element : 5\n",
      "5 25 30\n"
     ]
    }
   ],
   "source": [
    "L = [(1,2,3),(5,25,30),(2,4,8)]\n",
    "k = int(input('Enter Element : '))\n",
    "\n",
    "for a,b,c in L:\n",
    "    if a%k==0 and b%k==0 and c%k==0:\n",
    "        print(a,b,c)\n",
    "\n",
    "for i in L:\n",
    "    "
   ]
  },
  {
   "cell_type": "markdown",
   "metadata": {},
   "source": [
    "### 04) WAP to find Tuples with positive elements in List of tuples."
   ]
  },
  {
   "cell_type": "code",
   "execution_count": 25,
   "metadata": {},
   "outputs": [
    {
     "name": "stdout",
     "output_type": "stream",
     "text": [
      "2 4 8\n"
     ]
    }
   ],
   "source": [
    "L = [(1,-2,3),(-5,-25,30),(2,4,8)]\n",
    "\n",
    "for a,b,c in L:\n",
    "    if a>=0 and b>=0 and c>=0:\n",
    "        print(a,b,c)"
   ]
  },
  {
   "cell_type": "markdown",
   "metadata": {},
   "source": [
    "### 05) WAP which perform union of two sets."
   ]
  },
  {
   "cell_type": "code",
   "execution_count": 30,
   "metadata": {},
   "outputs": [
    {
     "name": "stdout",
     "output_type": "stream",
     "text": [
      "A U B : {2, 3, 4, 6, 8, 9, 10, 12}\n"
     ]
    }
   ],
   "source": [
    "s1 = {2,4,6,8,10}\n",
    "s2 = {3,6,9,10,12}\n",
    "\n",
    "print(\"A U B :\",s1.union(s2))    "
   ]
  },
  {
   "cell_type": "markdown",
   "metadata": {},
   "source": [
    "# B"
   ]
  },
  {
   "cell_type": "markdown",
   "metadata": {},
   "source": [
    "### 01) WAP to convert binary tuple into integer."
   ]
  },
  {
   "cell_type": "code",
   "execution_count": 34,
   "metadata": {},
   "outputs": [
    {
     "name": "stdout",
     "output_type": "stream",
     "text": [
      "Integer Number of Binary :  5\n"
     ]
    }
   ],
   "source": [
    "t = (\"0\",\"1\",\"0\",\"1\")\n",
    "str1 = \"\".join(t)\n",
    "num = int(str1,2)\n",
    "\n",
    "print(\"Integer Number of Binary : \",num)"
   ]
  },
  {
   "cell_type": "markdown",
   "metadata": {},
   "source": [
    "### 02) WAP to count frequency in list by dictionary."
   ]
  },
  {
   "cell_type": "code",
   "execution_count": 51,
   "metadata": {},
   "outputs": [
    {
     "name": "stdout",
     "output_type": "stream",
     "text": [
      "('a', 3)\n",
      "('b', 2)\n",
      "('c', 1)\n"
     ]
    }
   ],
   "source": [
    "d={}\n",
    "L = [\"a\",\"b\",\"a\",\"c\",\"a\",\"b\"]\n",
    "\n",
    "for i in L:\n",
    "    if i in d:\n",
    "        d[i] += 1\n",
    "    else:\n",
    "        d[i] = 1\n",
    "\n",
    "for i in d.items():\n",
    "    print(i)"
   ]
  },
  {
   "cell_type": "markdown",
   "metadata": {},
   "source": [
    "### 03) WAP to remove all the duplicate words from the list using dictionary."
   ]
  },
  {
   "cell_type": "code",
   "execution_count": 49,
   "metadata": {},
   "outputs": [
    {
     "name": "stdout",
     "output_type": "stream",
     "text": [
      "['a', 'b', 'c']\n"
     ]
    }
   ],
   "source": [
    "d={}\n",
    "L = [\"a\",\"b\",\"a\",\"c\",\"a\",\"b\"]\n",
    "\n",
    "a = dict.fromkeys(L,2)        \n",
    "    \n",
    "L = list(a.keys())\n",
    "print(L)"
   ]
  },
  {
   "cell_type": "code",
   "execution_count": null,
   "metadata": {},
   "outputs": [],
   "source": []
  }
 ],
 "metadata": {
  "kernelspec": {
   "display_name": "Python 3 (ipykernel)",
   "language": "python",
   "name": "python3"
  },
  "language_info": {
   "codemirror_mode": {
    "name": "ipython",
    "version": 3
   },
   "file_extension": ".py",
   "mimetype": "text/x-python",
   "name": "python",
   "nbconvert_exporter": "python",
   "pygments_lexer": "ipython3",
   "version": "3.9.13"
  }
 },
 "nbformat": 4,
 "nbformat_minor": 4
}
