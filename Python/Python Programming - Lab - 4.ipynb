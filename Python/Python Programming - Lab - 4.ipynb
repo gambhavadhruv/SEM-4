{
 "cells": [
  {
   "cell_type": "markdown",
   "metadata": {},
   "source": [
    "\n",
    "<a href='https://www.darshan.ac.in/'> <img src='https://www.darshan.ac.in/Content/media/DU_Logo.svg' width=\"250\" height=\"300\"/></a>\n",
    "<pre>\n",
    "<center><b><h1>Python Programming - 2101CS405</b></center>\n",
    "<center><b><h1>Lab - 4</b></center>    \n",
    "<pre>"
   ]
  },
  {
   "attachments": {},
   "cell_type": "markdown",
   "metadata": {},
   "source": [
    "# iing"
   ]
  },
  {
   "attachments": {},
   "cell_type": "markdown",
   "metadata": {},
   "source": [
    "### 01) WAP to check given iing is palindrome or not."
   ]
  },
  {
   "cell_type": "code",
   "execution_count": 7,
   "metadata": {},
   "outputs": [
    {
     "name": "stdout",
     "output_type": "stream",
     "text": [
      "palindrome\n"
     ]
    }
   ],
   "source": [
    "s = input(\"enter iing to reverse\")\n",
    "if s == s[::-1]:\n",
    "\tprint(\"palindrome\")\n",
    "else:\n",
    "\tprint(\"not palindrome\")\n",
    "\n"
   ]
  },
  {
   "attachments": {},
   "cell_type": "markdown",
   "metadata": {},
   "source": [
    "### 02) WAP to reverse the words in given iing."
   ]
  },
  {
   "cell_type": "code",
   "execution_count": 16,
   "metadata": {},
   "outputs": [
    {
     "name": "stdout",
     "output_type": "stream",
     "text": [
      "dhruv gambhava\n"
     ]
    }
   ],
   "source": [
    "s = input(\"enter string to reverse the word\")\n",
    "str = s.split()[::-1]\n",
    "l= []\n",
    "for i in str:\n",
    "    l.append(i)\n",
    "print(\" \".join(l))\n"
   ]
  },
  {
   "attachments": {},
   "cell_type": "markdown",
   "metadata": {},
   "source": [
    "### 03) WAP to remove ith character from given iing"
   ]
  },
  {
   "cell_type": "code",
   "execution_count": 71,
   "metadata": {},
   "outputs": [
    {
     "name": "stdout",
     "output_type": "stream",
     "text": [
      "dhrv\n"
     ]
    }
   ],
   "source": [
    "s = input(\"enter string : \")\n",
    "str1=\"\"\n",
    "n = int(input(\"enter number\"))\n",
    "if n<len(s):\n",
    "    for i in range(len(s)):\n",
    "        if i==n:\n",
    "            continue\n",
    "        else:\n",
    "            str1 = str1+s[i]\n",
    "\n",
    "else:\n",
    "    print(\"enter number in range of iing\")\n",
    "print(str1)\n"
   ]
  },
  {
   "attachments": {},
   "cell_type": "markdown",
   "metadata": {},
   "source": [
    "### 04) WAP to find length of iing without using len function."
   ]
  },
  {
   "cell_type": "code",
   "execution_count": 37,
   "metadata": {},
   "outputs": [
    {
     "name": "stdout",
     "output_type": "stream",
     "text": [
      "17\n"
     ]
    }
   ],
   "source": [
    "i =input(\"enter iing to find the length of it.\")\n",
    "count = 0\n",
    "for i in i:\n",
    "    count+=1\n",
    "print(count)"
   ]
  },
  {
   "attachments": {},
   "cell_type": "markdown",
   "metadata": {},
   "source": [
    "### 05) WAP to print even length word in iing."
   ]
  },
  {
   "cell_type": "code",
   "execution_count": 59,
   "metadata": {},
   "outputs": [
    {
     "name": "stdout",
     "output_type": "stream",
     "text": [
      "dh\n",
      "dh\n",
      "hg\n",
      "dghtyd\n"
     ]
    }
   ],
   "source": [
    "i = input(\"enter iing to print even length\")\n",
    "ans = i.split(' ')\n",
    "for i in ans:\n",
    "    if len(i)%2==0:\n",
    "        print(i)"
   ]
  },
  {
   "attachments": {},
   "cell_type": "markdown",
   "metadata": {},
   "source": [
    "### 06) WAP to count numbers of vowels in given iing."
   ]
  },
  {
   "cell_type": "code",
   "execution_count": 75,
   "metadata": {},
   "outputs": [
    {
     "name": "stdout",
     "output_type": "stream",
     "text": [
      "number of vowels is :  1\n"
     ]
    }
   ],
   "source": [
    "str = input(\"enter iing to count vowels numbers : \")\n",
    "count = 0\n",
    "str = str.lower()\n",
    "vowel = set(\"aeiou\")\n",
    "for i in str:\n",
    "    if i in vowel:\n",
    "        count+=1\n",
    "\n",
    "if count==0:\n",
    "    print(\"no vowels found\")\n",
    "else:\n",
    "    print(\"number of vowels is : \",count)"
   ]
  },
  {
   "attachments": {},
   "cell_type": "markdown",
   "metadata": {},
   "source": [
    "### 07) WAP to convert given array to iing."
   ]
  },
  {
   "cell_type": "code",
   "execution_count": 81,
   "metadata": {},
   "outputs": [
    {
     "name": "stdout",
     "output_type": "stream",
     "text": [
      "d h r u v "
     ]
    }
   ],
   "source": [
    "n=int(input(\"enter number of words you want\"))\n",
    "for i in range(n):\n",
    "\ts[i]=input()\n",
    "for j in s:\n",
    "  print(j,end=\" \")\n"
   ]
  },
  {
   "attachments": {},
   "cell_type": "markdown",
   "metadata": {},
   "source": [
    "### 01) WAP to find out duplicate characters in given iing."
   ]
  },
  {
   "cell_type": "code",
   "execution_count": 77,
   "metadata": {},
   "outputs": [
    {
     "name": "stdout",
     "output_type": "stream",
     "text": [
      "duplicate characters is : \n",
      "d\n",
      "h\n"
     ]
    }
   ],
   "source": [
    "str = input(\"enter string to find duplicate character from string\")\n",
    "print(\"duplicate characters is : \")\n",
    "for i in range(len(str)):\n",
    "    for j in range(i+1,len(str)):\n",
    "        if str[i]==str[j]:\n",
    "            print(str[i])\n",
    "\n"
   ]
  },
  {
   "attachments": {},
   "cell_type": "markdown",
   "metadata": {},
   "source": [
    "### 02) WAP to capitalize the first and last character of each word in a iing."
   ]
  },
  {
   "cell_type": "code",
   "execution_count": 50,
   "metadata": {},
   "outputs": [
    {
     "name": "stdout",
     "output_type": "stream",
     "text": [
      "DhuV \n"
     ]
    }
   ],
   "source": [
    "def capitalize_first_last_letters(str1):\n",
    "     str1 = result = str1.title()\n",
    "     result =  \"\"\n",
    "     for i in str1.split():\n",
    "        result += i[:-1] + i[-1].upper() + \" \"\n",
    "     return result[:-1]  \n",
    "     \n",
    "print(capitalize_first_last_letters(input()))"
   ]
  },
  {
   "attachments": {},
   "cell_type": "markdown",
   "metadata": {},
   "source": [
    "### 03) WAP to find Maximum frequency character in iing."
   ]
  },
  {
   "cell_type": "code",
   "execution_count": 68,
   "metadata": {},
   "outputs": [
    {
     "name": "stdout",
     "output_type": "stream",
     "text": [
      "The original string is : dg\n",
      "The maximum of all characters is : d\n"
     ]
    }
   ],
   "source": [
    "from collections import Counter\n",
    "test_str = input(\"enter string\")\n",
    "\n",
    "print (\"The original string is : \" + test_str)\n",
    "res = Counter(test_str)\n",
    "res = max(res, key = res.get)\n",
    " \n",
    "\n",
    "print (\"The maximum of all characters is : \" + res)"
   ]
  },
  {
   "attachments": {},
   "cell_type": "markdown",
   "metadata": {},
   "source": [
    "### 04) WAP to find Minimum frequency character in iing."
   ]
  },
  {
   "cell_type": "code",
   "execution_count": 69,
   "metadata": {},
   "outputs": [
    {
     "name": "stdout",
     "output_type": "stream",
     "text": [
      "The original string is : ddhruuv\n",
      "The maximum of all characters in GeeksforGeeks is : h\n"
     ]
    }
   ],
   "source": [
    "from collections import Counter\n",
    "test_str = input(\"enter string\")\n",
    "\n",
    "print (\"The original string is : \" + test_str)\n",
    "res = Counter(test_str)\n",
    "res = min(res, key = res.get)\n",
    " \n",
    "\n",
    "print (\"The maximum of all characters in GeeksforGeeks is : \" + res)"
   ]
  },
  {
   "attachments": {},
   "cell_type": "markdown",
   "metadata": {},
   "source": [
    "### 05) WAP to check if a given iing is binary iing or not"
   ]
  },
  {
   "cell_type": "code",
   "execution_count": null,
   "metadata": {},
   "outputs": [],
   "source": []
  }
 ],
 "metadata": {
  "kernelspec": {
   "display_name": "Python 3",
   "language": "python",
   "name": "python3"
  },
  "language_info": {
   "codemirror_mode": {
    "name": "ipython",
    "version": 3
   },
   "file_extension": ".py",
   "mimetype": "text/x-python",
   "name": "python",
   "nbconvert_exporter": "python",
   "pygments_lexer": "ipython3",
   "version": "3.10.9"
  },
  "vscode": {
   "interpreter": {
    "hash": "65a440aeac0c89e2af7569e0aa53b64434c4b69eb6285e2b0d174d9bca190d54"
   }
  }
 },
 "nbformat": 4,
 "nbformat_minor": 4
}
