{
 "cells": [
  {
   "cell_type": "markdown",
   "metadata": {},
   "source": [
    "<a href='https://www.darshan.ac.in/'> <img src='https://www.darshan.ac.in/Content/media/DU_Logo.svg' width=\"250\" height=\"300\"/></a>\n",
    "<pre>\n",
    "<center><b><h1>Python Programming - 2101CS405</b></center>\n",
    "<center><b><h1>Lab - 10</b></center>    \n",
    "<pre>"
   ]
  },
  {
   "cell_type": "markdown",
   "metadata": {},
   "source": [
    "# Modules"
   ]
  },
  {
   "cell_type": "markdown",
   "metadata": {},
   "source": [
    "# A"
   ]
  },
  {
   "cell_type": "markdown",
   "metadata": {},
   "source": [
    "### 01) WAP to create Calculator module which defines functions like add, sub,mul and div. create another file that uses the Calculator module."
   ]
  },
  {
   "cell_type": "code",
   "execution_count": 4,
   "metadata": {},
   "outputs": [
    {
     "name": "stdout",
     "output_type": "stream",
     "text": [
      "22\n",
      "2\n",
      "120\n",
      "1.2\n"
     ]
    }
   ],
   "source": [
    "import Calcy as c\n",
    "print(c.ADD(12,10))\n",
    "print(c.SUB(12,10))\n",
    "print(c.MUL(12,10))\n",
    "print(c.DIV(12,10))"
   ]
  },
  {
   "cell_type": "markdown",
   "metadata": {},
   "source": [
    "### 02) WAP to Pick a random character from a given String."
   ]
  },
  {
   "cell_type": "code",
   "execution_count": 8,
   "metadata": {},
   "outputs": [
    {
     "name": "stdout",
     "output_type": "stream",
     "text": [
      "v\n"
     ]
    }
   ],
   "source": [
    "import random\n",
    "str='dhruv gambhava'\n",
    "print(random.choice(str))"
   ]
  },
  {
   "cell_type": "markdown",
   "metadata": {},
   "source": [
    "### 03) WAP to Pick a random element from a given list."
   ]
  },
  {
   "cell_type": "code",
   "execution_count": 16,
   "metadata": {},
   "outputs": [
    {
     "name": "stdout",
     "output_type": "stream",
     "text": [
      "k\n"
     ]
    }
   ],
   "source": [
    "import random \n",
    "l1=[1,2,'d','h',5,6,'r',4,7,'k',2]\n",
    "print(random.choice(l1))"
   ]
  },
  {
   "cell_type": "markdown",
   "metadata": {},
   "source": [
    "### 04) WAP to demonstrate the use of the math module."
   ]
  },
  {
   "cell_type": "code",
   "execution_count": 18,
   "metadata": {},
   "outputs": [
    {
     "name": "stdout",
     "output_type": "stream",
     "text": [
      "e =  2.718281828459045\n",
      "PI =  3.141592653589793\n",
      "Tau =  6.283185307179586\n",
      "Ceil =  6\n",
      "Floor =  5\n",
      "Factorial =  120\n",
      "GCD =  3\n",
      "LCM =  15\n",
      "Fabs =  15.0\n",
      "Exponential =  7.38905609893065\n",
      "Power =  8.0\n",
      "Log With Base 2=  5.0\n",
      "Log With Base 10=  1.0\n",
      "Degree To Radian =  1.5707963267948966\n",
      "Radian To Degree =  90.0\n",
      "Gamma =  1.0\n"
     ]
    }
   ],
   "source": [
    "import math\n",
    "print(\"e = \",math.e)\n",
    "print(\"PI = \",math.pi)\n",
    "print(\"Tau = \",math.tau)\n",
    "print(\"Ceil = \",math.ceil(5.6))\n",
    "print(\"Floor = \",math.floor(5.6))\n",
    "print(\"Factorial = \",math.factorial(5))\n",
    "print(\"GCD = \",math.gcd(15,3))\n",
    "print(\"LCM = \",math.lcm(15,3))\n",
    "print(\"Fabs = \",math.fabs(-15))\n",
    "print(\"Exponential = \",math.exp(2))\n",
    "print(\"Power = \",math.pow(2,3))\n",
    "print(\"Log With Base 2= \",math.log2(32))\n",
    "print(\"Log With Base 10= \",math.log10(10))\n",
    "print(\"Degree To Radian = \",math.radians(90))\n",
    "print(\"Radian To Degree = \",math.degrees(1.5707963267948966))\n",
    "print(\"Gamma = \",math.gamma(2))"
   ]
  },
  {
   "cell_type": "markdown",
   "metadata": {},
   "source": [
    "### 05) WAP to demonstrate the use of date time module."
   ]
  },
  {
   "cell_type": "code",
   "execution_count": 23,
   "metadata": {},
   "outputs": [
    {
     "name": "stdout",
     "output_type": "stream",
     "text": [
      "2023-02-23\n",
      "...................................\n",
      "2023-02-23\n",
      "2023\n",
      "2\n",
      "23\n",
      "...................................\n",
      "10:45:23.000088\n",
      "10\n",
      "45\n",
      "23\n",
      "88\n",
      "...................................\n",
      "2023-02-08 10:42:03.000005\n",
      "2023\n",
      "2\n",
      "8\n",
      "10\n",
      "42\n",
      "3\n",
      "5\n",
      "...................................\n",
      "2023-02-23 08:18:03.948337\n",
      "...................................\n",
      "2023-02-26 08:18:03.948843\n",
      "...................................\n",
      "2023-02-16 08:18:03.948843\n",
      "...................................\n",
      "Thu\n",
      "Thursday\n",
      "02\n",
      "18\n",
      "23\n",
      "2023\n"
     ]
    }
   ],
   "source": [
    "import datetime\n",
    "\n",
    "d = datetime.date(2023,2,23)\n",
    "print(d)\n",
    "print(\"...................................\")\n",
    "\n",
    "today = datetime.date.today()\n",
    "print(today)\n",
    "print(today.year)\n",
    "print(today.month)\n",
    "print(today.day)\n",
    "print(\"...................................\")\n",
    "\n",
    "t = datetime.time(10,45,23,88)\n",
    "print(t)\n",
    "print(t.hour)\n",
    "print(t.minute)\n",
    "print(t.second)\n",
    "print(t.microsecond)\n",
    "print(\"...................................\")\n",
    "\n",
    "dt = datetime.datetime(2023,2,8,10,42,3,5)\n",
    "print(dt)\n",
    "print(dt.year)\n",
    "print(dt.month)\n",
    "print(dt.day)\n",
    "print(dt.hour)\n",
    "print(dt.minute)\n",
    "print(dt.second)\n",
    "print(dt.microsecond)\n",
    "print(\"...................................\")\n",
    "\n",
    "\n",
    "print(datetime.datetime.now())\n",
    "print(\"...................................\")\n",
    "\n",
    "delta = datetime.datetime.now()\n",
    "td = delta + datetime.timedelta(days=3)\n",
    "print(td)\n",
    "print(\"...................................\")\n",
    "\n",
    "delta = datetime.datetime.now()\n",
    "td = delta - datetime.timedelta(weeks=1)\n",
    "print(td)\n",
    "print(\"...................................\")\n",
    "\n",
    "print(delta.strftime(\"%a\"))\n",
    "print(delta.strftime(\"%A\"))\n",
    "print(delta.strftime(\"%m\"))\n",
    "print(delta.strftime(\"%M\"))\n",
    "print(delta.strftime(\"%y\"))\n",
    "print(delta.strftime(\"%Y\"))"
   ]
  },
  {
   "cell_type": "markdown",
   "metadata": {},
   "source": [
    "# B"
   ]
  },
  {
   "cell_type": "markdown",
   "metadata": {},
   "source": [
    "### 01) WAP to Roll dice in such a way that every time you get the same number."
   ]
  },
  {
   "cell_type": "code",
   "execution_count": 36,
   "metadata": {},
   "outputs": [
    {
     "name": "stdout",
     "output_type": "stream",
     "text": [
      "5\n"
     ]
    }
   ],
   "source": [
    "list1=[1,2,3,4,5,6]\n",
    "random.seed(5)\n",
    "print(random.choice(list1))"
   ]
  },
  {
   "cell_type": "markdown",
   "metadata": {},
   "source": [
    "### 02) WAP to generate 3 random integers between 100 and 999 which is divisible by 5."
   ]
  },
  {
   "cell_type": "code",
   "execution_count": 42,
   "metadata": {},
   "outputs": [
    {
     "name": "stdout",
     "output_type": "stream",
     "text": [
      "585\n",
      "795\n",
      "230\n"
     ]
    }
   ],
   "source": [
    "for i in range(3):\n",
    "    print(random.randrange(100,999,5))"
   ]
  },
  {
   "cell_type": "markdown",
   "metadata": {},
   "source": [
    "### 03) WAP to generate 100 random lottery tickets and pick two lucky tickets from it as a winner."
   ]
  },
  {
   "cell_type": "code",
   "execution_count": 44,
   "metadata": {},
   "outputs": [
    {
     "name": "stdout",
     "output_type": "stream",
     "text": [
      "1\n",
      "93\n"
     ]
    }
   ],
   "source": [
    "list1=[]\n",
    "for i in range (100):\n",
    "    list1.append(i)\n",
    "print(random.choice(list1))\n",
    "print(random.choice(list1))"
   ]
  },
  {
   "cell_type": "markdown",
   "metadata": {},
   "source": [
    "### 04) WAP to print current date and time in Python."
   ]
  },
  {
   "cell_type": "code",
   "execution_count": 48,
   "metadata": {},
   "outputs": [
    {
     "name": "stdout",
     "output_type": "stream",
     "text": [
      "2023-02-23 08:31:55.237152\n"
     ]
    }
   ],
   "source": [
    "print(datetime.datetime.now())"
   ]
  },
  {
   "cell_type": "markdown",
   "metadata": {},
   "source": [
    "### 05) Subtract a week (7 days) from a given date in Python."
   ]
  },
  {
   "cell_type": "code",
   "execution_count": 49,
   "metadata": {},
   "outputs": [
    {
     "name": "stdout",
     "output_type": "stream",
     "text": [
      "2023-02-16 08:18:03.948843\n"
     ]
    }
   ],
   "source": [
    "delte = datetime.datetime.now()\n",
    "td = delta - datetime.timedelta(weeks=1)\n",
    "print(td)"
   ]
  },
  {
   "cell_type": "markdown",
   "metadata": {},
   "source": [
    "### 06) WAP to Calculate number of days between two given dates."
   ]
  },
  {
   "cell_type": "code",
   "execution_count": 51,
   "metadata": {},
   "outputs": [
    {
     "name": "stdout",
     "output_type": "stream",
     "text": [
      "5 days, 2:07:55.778791\n"
     ]
    }
   ],
   "source": [
    "d1=datetime.datetime(2023,2,28,10,42,3,5)\n",
    "d2=datetime.datetime.now()\n",
    "print(d1-d2)"
   ]
  },
  {
   "cell_type": "markdown",
   "metadata": {},
   "source": [
    "### 07) WAP to Find the day of the week of a given date."
   ]
  },
  {
   "cell_type": "code",
   "execution_count": 53,
   "metadata": {},
   "outputs": [
    {
     "name": "stdout",
     "output_type": "stream",
     "text": [
      "Thu\n",
      "Thursday\n"
     ]
    }
   ],
   "source": [
    "delta = datetime.datetime.now()\n",
    "print(delta.strftime(\"%a\"))\n",
    "print(delta.strftime(\"%A\"))"
   ]
  },
  {
   "cell_type": "code",
   "execution_count": null,
   "metadata": {},
   "outputs": [],
   "source": []
  }
 ],
 "metadata": {
  "kernelspec": {
   "display_name": "Python 3 (ipykernel)",
   "language": "python",
   "name": "python3"
  },
  "language_info": {
   "codemirror_mode": {
    "name": "ipython",
    "version": 3
   },
   "file_extension": ".py",
   "mimetype": "text/x-python",
   "name": "python",
   "nbconvert_exporter": "python",
   "pygments_lexer": "ipython3",
   "version": "3.9.12"
  }
 },
 "nbformat": 4,
 "nbformat_minor": 4
}
