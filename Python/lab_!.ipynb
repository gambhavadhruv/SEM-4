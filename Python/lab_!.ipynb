{
 "cells": [
  {
   "cell_type": "markdown",
   "metadata": {},
   "source": [
    "<a href='https://www.darshan.ac.in/'> <img src='https://www.darshan.ac.in/Content/media/DU_Logo.svg' width=\"250\" height=\"300\"/></a>\n",
    "<pre>\n",
    "<center><b><h1>Python Programming - 2101CS405</b></center>\n",
    "<center><b><h1>Lab - 1</b></center>    \n",
    "<pre>"
   ]
  },
  {
   "cell_type": "code",
   "execution_count": null,
   "metadata": {},
   "outputs": [],
   "source": []
  },
  {
   "cell_type": "code",
   "execution_count": null,
   "metadata": {},
   "outputs": [],
   "source": []
  },
  {
   "cell_type": "markdown",
   "metadata": {},
   "source": []
  },
  {
   "cell_type": "markdown",
   "metadata": {},
   "source": [
    "### 01) WAP to print “Hello World”"
   ]
  },
  {
   "cell_type": "code",
   "execution_count": null,
   "metadata": {},
   "outputs": [
    {
     "ename": "",
     "evalue": "",
     "output_type": "error",
     "traceback": [
      "\u001b[1;31mRunning cells with 'c:\\Users\\ASUS\\AppData\\Local\\Microsoft\\WindowsApps\\python3.10.exe' requires ipykernel package.\n",
      "\u001b[1;31mRun the following command to install 'ipykernel' into the Python environment. \n",
      "\u001b[1;31mCommand: 'c:/Users/ASUS/AppData/Local/Microsoft/WindowsApps/python3.10.exe -m pip install ipykernel -U --user --force-reinstall'"
     ]
    }
   ],
   "source": [
    "print('hello world')"
   ]
  },
  {
   "cell_type": "markdown",
   "metadata": {},
   "source": [
    "### 02) WAP to print your address i) using single print ii) using multiple print"
   ]
  },
  {
   "cell_type": "code",
   "execution_count": null,
   "metadata": {},
   "outputs": [
    {
     "ename": "",
     "evalue": "",
     "output_type": "error",
     "traceback": [
      "\u001b[1;31mRunning cells with 'c:\\Users\\ASUS\\AppData\\Local\\Microsoft\\WindowsApps\\python3.10.exe' requires ipykernel package.\n",
      "\u001b[1;31mRun the following command to install 'ipykernel' into the Python environment. \n",
      "\u001b[1;31mCommand: 'c:/Users/ASUS/AppData/Local/Microsoft/WindowsApps/python3.10.exe -m pip install ipykernel -U --user --force-reinstall'"
     ]
    }
   ],
   "source": [
    "print('Amran \\n Morbi \\n Gujarat')\n",
    "print('Amran')\n",
    "print('Morbi')\n",
    "print('Gujarat')"
   ]
  },
  {
   "cell_type": "markdown",
   "metadata": {},
   "source": [
    "### 03) WAP to print addition of 2 numbers (without input function)"
   ]
  },
  {
   "cell_type": "code",
   "execution_count": null,
   "metadata": {},
   "outputs": [
    {
     "ename": "",
     "evalue": "",
     "output_type": "error",
     "traceback": [
      "\u001b[1;31mRunning cells with 'c:\\Users\\ASUS\\AppData\\Local\\Microsoft\\WindowsApps\\python3.10.exe' requires ipykernel package.\n",
      "\u001b[1;31mRun the following command to install 'ipykernel' into the Python environment. \n",
      "\u001b[1;31mCommand: 'c:/Users/ASUS/AppData/Local/Microsoft/WindowsApps/python3.10.exe -m pip install ipykernel -U --user --force-reinstall'"
     ]
    }
   ],
   "source": [
    "a=10\n",
    "b=15\n",
    "c=a+b\n",
    "print(c)"
   ]
  },
  {
   "cell_type": "markdown",
   "metadata": {},
   "source": [
    "### 04) WAP to calculate and print average of 2 numbers (without input function)"
   ]
  },
  {
   "cell_type": "code",
   "execution_count": null,
   "metadata": {},
   "outputs": [
    {
     "ename": "",
     "evalue": "",
     "output_type": "error",
     "traceback": [
      "\u001b[1;31mRunning cells with 'c:\\Users\\ASUS\\AppData\\Local\\Microsoft\\WindowsApps\\python3.10.exe' requires ipykernel package.\n",
      "\u001b[1;31mRun the following command to install 'ipykernel' into the Python environment. \n",
      "\u001b[1;31mCommand: 'c:/Users/ASUS/AppData/Local/Microsoft/WindowsApps/python3.10.exe -m pip install ipykernel -U --user --force-reinstall'"
     ]
    }
   ],
   "source": [
    "a=13\n",
    "b=7\n",
    "c=(a+b)/2\n",
    "print(c)"
   ]
  },
  {
   "cell_type": "markdown",
   "metadata": {},
   "source": [
    "### 05) WAP to add two number entered by user."
   ]
  },
  {
   "cell_type": "code",
   "execution_count": null,
   "metadata": {},
   "outputs": [
    {
     "ename": "",
     "evalue": "",
     "output_type": "error",
     "traceback": [
      "\u001b[1;31mRunning cells with 'c:\\Users\\ASUS\\AppData\\Local\\Microsoft\\WindowsApps\\python3.10.exe' requires ipykernel package.\n",
      "\u001b[1;31mRun the following command to install 'ipykernel' into the Python environment. \n",
      "\u001b[1;31mCommand: 'c:/Users/ASUS/AppData/Local/Microsoft/WindowsApps/python3.10.exe -m pip install ipykernel -U --user --force-reinstall'"
     ]
    }
   ],
   "source": [
    "a = input('enter first number : ')\n",
    "c = input('enter second number : ')\n",
    "sum = int(a) + int(c)\n",
    "print('answer is : ' , sum)"
   ]
  },
  {
   "cell_type": "markdown",
   "metadata": {},
   "source": [
    "### 06) WAP to calculate simple interest."
   ]
  },
  {
   "cell_type": "code",
   "execution_count": 3,
   "metadata": {},
   "outputs": [
    {
     "name": "stdout",
     "output_type": "stream",
     "text": [
      "The simple interest is :  0.4\n"
     ]
    }
   ],
   "source": [
    "p=input(\"Enter money : \")\n",
    "r=input(\"Enter rate : \")\n",
    "n=input(\"Enter the number of days : \")\n",
    "i=(int(p)*int(r)*int(n))/100\n",
    "print(\"The simple interest is : \",i)"
   ]
  },
  {
   "cell_type": "markdown",
   "metadata": {},
   "source": [
    "### 07) WAP Calculate Area and Circumfrence of Circle"
   ]
  },
  {
   "cell_type": "code",
   "execution_count": 2,
   "metadata": {},
   "outputs": [
    {
     "name": "stdout",
     "output_type": "stream",
     "text": [
      "Area is :  78.5\n",
      "Circumfrence is :  31.400000000000002\n"
     ]
    }
   ],
   "source": [
    "r= input(\"enter radius : \")\n",
    "area = 3.14*int(r)*int(r)\n",
    "Circumfrence = 2*3.14*int(r)\n",
    "print(\"Area is : \",area)\n",
    "print(\"Circumfrence is : \",Circumfrence)"
   ]
  },
  {
   "cell_type": "markdown",
   "metadata": {},
   "source": [
    "### 08) WAP to print Multiplication table of given number without using loops."
   ]
  },
  {
   "cell_type": "code",
   "execution_count": null,
   "metadata": {},
   "outputs": [
    {
     "ename": "",
     "evalue": "",
     "output_type": "error",
     "traceback": [
      "\u001b[1;31mRunning cells with 'c:\\Users\\ASUS\\AppData\\Local\\Microsoft\\WindowsApps\\python3.10.exe' requires ipykernel package.\n",
      "\u001b[1;31mRun the following command to install 'ipykernel' into the Python environment. \n",
      "\u001b[1;31mCommand: 'c:/Users/ASUS/AppData/Local/Microsoft/WindowsApps/python3.10.exe -m pip install ipykernel -U --user --force-reinstall'"
     ]
    }
   ],
   "source": [
    "num=input(\"enter number for print multiplication table as you want : \")\n",
    "print(int(num), 'x', 1, '=', int(num)*1)\n",
    "print(int(num), 'x', 2, '=', int(num)*2)\n",
    "print(int(num), 'x', 3, '=', int(num)*3)\n",
    "print(int(num), 'x', 4, '=', int(num)*4)\n",
    "print(int(num), 'x', 5, '=', int(num)*5)\n",
    "print(int(num), 'x', 6, '=', int(num)*6)\n",
    "print(int(num), 'x', 7, '=', int(num)*7)\n",
    "print(int(num), 'x', 8, '=', int(num)*8)\n",
    "print(int(num), 'x', 9, '=', int(num)*9)\n",
    "print(int(num), 'x', 10, '=', int(num)*10)"
   ]
  },
  {
   "cell_type": "markdown",
   "metadata": {},
   "source": [
    "### 09) WAP to calculate Area of Triangle (hint: a = h * b * 0.5)"
   ]
  },
  {
   "cell_type": "code",
   "execution_count": null,
   "metadata": {},
   "outputs": [
    {
     "ename": "",
     "evalue": "",
     "output_type": "error",
     "traceback": [
      "\u001b[1;31mRunning cells with 'c:\\Users\\ASUS\\AppData\\Local\\Microsoft\\WindowsApps\\python3.10.exe' requires ipykernel package.\n",
      "\u001b[1;31mRun the following command to install 'ipykernel' into the Python environment. \n",
      "\u001b[1;31mCommand: 'c:/Users/ASUS/AppData/Local/Microsoft/WindowsApps/python3.10.exe -m pip install ipykernel -U --user --force-reinstall'"
     ]
    }
   ],
   "source": [
    "h = input(\"enter height : \")\n",
    "b = input(\"enter base : \")\n",
    "area = (0.5*int(h)*int(b))\n",
    "print(\"Area of triangle is : \",area)"
   ]
  },
  {
   "cell_type": "markdown",
   "metadata": {},
   "source": [
    "### 10) WAP to convert degree to Fahrenheit and vice versa."
   ]
  },
  {
   "cell_type": "code",
   "execution_count": null,
   "metadata": {},
   "outputs": [
    {
     "ename": "",
     "evalue": "",
     "output_type": "error",
     "traceback": [
      "\u001b[1;31mRunning cells with 'c:\\Users\\ASUS\\AppData\\Local\\Microsoft\\WindowsApps\\python3.10.exe' requires ipykernel package.\n",
      "\u001b[1;31mRun the following command to install 'ipykernel' into the Python environment. \n",
      "\u001b[1;31mCommand: 'c:/Users/ASUS/AppData/Local/Microsoft/WindowsApps/python3.10.exe -m pip install ipykernel -U --user --force-reinstall'"
     ]
    }
   ],
   "source": [
    "c = input(\"enter celcious : \")\n",
    "f = ((int(c)*9/5)+32)\n",
    "print(\"feranhit : \",f)\n",
    "\n",
    "f= input(\"enter feranhit : \")\n",
    "c = ((int(f)-32)*5/9)\n",
    "print(\"celcious : \",c)"
   ]
  },
  {
   "cell_type": "markdown",
   "metadata": {},
   "source": [
    "### 11) WAP to calculate total marks and Percentage."
   ]
  },
  {
   "cell_type": "code",
   "execution_count": null,
   "metadata": {},
   "outputs": [
    {
     "ename": "",
     "evalue": "",
     "output_type": "error",
     "traceback": [
      "\u001b[1;31mRunning cells with 'c:\\Users\\ASUS\\AppData\\Local\\Microsoft\\WindowsApps\\python3.10.exe' requires ipykernel package.\n",
      "\u001b[1;31mRun the following command to install 'ipykernel' into the Python environment. \n",
      "\u001b[1;31mCommand: 'c:/Users/ASUS/AppData/Local/Microsoft/WindowsApps/python3.10.exe -m pip install ipykernel -U --user --force-reinstall'"
     ]
    }
   ],
   "source": [
    "sub1 = input(\"enter marks of 1st subject\")\n",
    "sub2 = input(\"enter marks of 2nd subject\")\n",
    "sub3 = input(\"enter marks of 3rd subject\")\n",
    "sub4 = input(\"enter marks of 4th subject\")\n",
    "sub5 = input(\"enter marks of 5th subject\")\n",
    "\n",
    "perc = (int(sub1)+int(sub2)+int(sub3)+int(sub4)+int(sub5))/5\n",
    "\n",
    "print(\"you got \",perc,\" percentage\")"
   ]
  },
  {
   "cell_type": "markdown",
   "metadata": {},
   "source": [
    "### 12) Compute distance between two points taking input from the user (Pythagorean Theorem)."
   ]
  },
  {
   "cell_type": "code",
   "execution_count": 5,
   "metadata": {},
   "outputs": [
    {
     "name": "stdout",
     "output_type": "stream",
     "text": [
      "Distence is :  4.0\n"
     ]
    }
   ],
   "source": [
    "import math\n",
    "x1 = input(\"enter distence of point a : \")\n",
    "x2 = input(\"enter distence of point b : \")\n",
    "y1 = input(\"enter distence of point b : \")\n",
    "y2 = input(\"enter distence of point b : \")\n",
    "\n",
    "c = math.sqrt((int(x2)-int(x1))*(int(x2)-int(x1))+(int(y2)-int(y1))*(int(y2)-int(y1)))\n",
    "         \n",
    "print(\"Distence is : \",c)"
   ]
  },
  {
   "cell_type": "markdown",
   "metadata": {},
   "source": [
    "### 13) WAP to convert seconds into hours, minutes & seconds and print in HH:MM:SS\n",
    "[e.g. 10000 seconds mean 2:46:40 (2 Hours, 46 Minutes, 40Seconds)]"
   ]
  },
  {
   "cell_type": "code",
   "execution_count": null,
   "metadata": {},
   "outputs": [],
   "source": [
    "s = input(\"enter seconds : \")\n",
    "h = complex(s)/3600\n",
    "rem = complex(s)%3600\n",
    "m = complex(rem)/60\n",
    "sec = complex(s)%60\n",
    "\n",
    "print(\"hours : \",h)\n",
    "print(\"hours : \",m)\n",
    "print(\"hours : \",sec)\n"
   ]
  },
  {
   "cell_type": "markdown",
   "metadata": {},
   "source": [
    "### 14) WAP to enter distance into kilometer and convert it into meter, feet,inches, and centimeter"
   ]
  },
  {
   "cell_type": "code",
   "execution_count": null,
   "metadata": {},
   "outputs": [
    {
     "ename": "",
     "evalue": "",
     "output_type": "error",
     "traceback": [
      "\u001b[1;31mRunning cells with 'c:\\Users\\ASUS\\AppData\\Local\\Microsoft\\WindowsApps\\python3.10.exe' requires ipykernel package.\n",
      "\u001b[1;31mRun the following command to install 'ipykernel' into the Python environment. \n",
      "\u001b[1;31mCommand: 'c:/Users/ASUS/AppData/Local/Microsoft/WindowsApps/python3.10.exe -m pip install ipykernel -U --user --force-reinstall'"
     ]
    }
   ],
   "source": [
    "km = input(\"enter distence to convert k.m. to meter,inches,feet and centimeter\")\n",
    "Meter = int(km) * 1000\n",
    "Feet = int(km) * 3280.84\n",
    "Inches = int(km) * 39370.1\n",
    "Centimeter = int(km) * 100000\n",
    "\n",
    "print('Meters : ',Meter)\n",
    "print('Feet : ',Feet)\n",
    "print('Inches : ',Inches)\n",
    "print('Centimeter : ',Centimeter)"
   ]
  }
 ],
 "metadata": {
  "kernelspec": {
   "display_name": "Python 3",
   "language": "python",
   "name": "python3"
  },
  "language_info": {
   "codemirror_mode": {
    "name": "ipython",
    "version": 3
   },
   "file_extension": ".py",
   "mimetype": "text/x-python",
   "name": "python",
   "nbconvert_exporter": "python",
   "pygments_lexer": "ipython3",
   "version": "3.10.9 (tags/v3.10.9:1dd9be6, Dec  6 2022, 20:01:21) [MSC v.1934 64 bit (AMD64)]"
  },
  "vscode": {
   "interpreter": {
    "hash": "65a440aeac0c89e2af7569e0aa53b64434c4b69eb6285e2b0d174d9bca190d54"
   }
  }
 },
 "nbformat": 4,
 "nbformat_minor": 4
}
